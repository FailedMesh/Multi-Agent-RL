{
 "cells": [
  {
   "cell_type": "code",
   "execution_count": 1,
   "id": "f5d8e155",
   "metadata": {},
   "outputs": [],
   "source": [
    "from predator_prey import *\n",
    "\n",
    "from IPython.display import clear_output\n",
    "import matplotlib.pyplot as plt\n",
    "\n",
    "import torch\n",
    "from torch import nn\n",
    "import torch.nn.functional as F"
   ]
  },
  {
   "cell_type": "code",
   "execution_count": 2,
   "id": "308786a8",
   "metadata": {},
   "outputs": [],
   "source": [
    "env = gym.make('ma_gym:PredatorPrey5x5-v0')"
   ]
  },
  {
   "cell_type": "code",
   "execution_count": 3,
   "id": "e775f0ab",
   "metadata": {},
   "outputs": [],
   "source": [
    "global device \n",
    "\n",
    "device = \"cuda\" if torch.cuda.is_available() else \"cpu\""
   ]
  },
  {
   "cell_type": "code",
   "execution_count": 4,
   "id": "ace00a25",
   "metadata": {},
   "outputs": [
    {
     "data": {
      "text/plain": [
       "'cuda'"
      ]
     },
     "execution_count": 4,
     "metadata": {},
     "output_type": "execute_result"
    }
   ],
   "source": [
    "device"
   ]
  },
  {
   "cell_type": "markdown",
   "id": "3956d3c7",
   "metadata": {},
   "source": [
    "# --------------------------------------------------------------------------------------------------------------\n"
   ]
  },
  {
   "cell_type": "markdown",
   "id": "dd2cbf8f",
   "metadata": {},
   "source": [
    "## Deep Q-Learning Network:"
   ]
  },
  {
   "cell_type": "code",
   "execution_count": 17,
   "id": "ae65af67",
   "metadata": {},
   "outputs": [],
   "source": [
    "class DQN(nn.Module):\n",
    "    \n",
    "    def __init__(self, state_size, action_size, use_cuda = True):\n",
    "        \n",
    "        #Allow usage of inherited class methods directly:\n",
    "        super(DQN, self).__init__()\n",
    "        \n",
    "        #Enable/Disable using GPU for training:\n",
    "        self.use_cuda = use_cuda\n",
    "        \n",
    "        ##---NEURAL NETWORK ARCHITECTURE---#:\n",
    "        \n",
    "        self.input_layer = nn.Linear(state_size, 32)\n",
    "        self.hidden_layer1 = nn.Linear(32, 64)\n",
    "        self.hidden_layer2 = nn.Linear(64, 32)\n",
    "        self.output_layer = nn.Linear(32, action_size)\n",
    "        \n",
    "        #----------------------------------#\n",
    "        \n",
    "        self.loss_fn = nn.L1Loss()\n",
    "        self.optimizer = torch.optim.RMSprop(params = self.parameters(),\n",
    "                                             lr = 0.1)    \n",
    "    \n",
    "    def forward(self, state):\n",
    "        \n",
    "        X = F.relu(self.input_layer(state))\n",
    "        X = F.relu(self.hidden_layer1(X))\n",
    "        X = F.relu(self.hidden_layer2(X))\n",
    "        action_values = self.output_layer(X)\n",
    "        \n",
    "        return action_values\n",
    "    \n",
    "    "
   ]
  },
  {
   "cell_type": "markdown",
   "id": "dd59e502",
   "metadata": {},
   "source": [
    "## Training Function:"
   ]
  },
  {
   "cell_type": "code",
   "execution_count": 161,
   "id": "a404e453",
   "metadata": {},
   "outputs": [],
   "source": [
    "def train_model(model, X, Y, epochs = 10):\n",
    "    \n",
    "    global device\n",
    "    \n",
    "    X = X.to(device)\n",
    "    Y = Y.to(device)\n",
    "    \n",
    "    for epoch in range(epochs):\n",
    "        \n",
    "        model.train()\n",
    "        \n",
    "        y_pred = model(X).squeeze()\n",
    "        \n",
    "        model.optimizer.zero_grad()\n",
    "        \n",
    "        model.loss_fn.backward()\n",
    "        \n",
    "        model.optimizer.step()\n"
   ]
  },
  {
   "cell_type": "code",
   "execution_count": 172,
   "id": "60c114c7",
   "metadata": {},
   "outputs": [],
   "source": [
    "idx = np.random.default_rng().choice(5, size = 3, replace = False)\n",
    "A = np.random.randint(15625, size = 10)\n",
    "A = [encoding_to_state(s) for s in A]\n",
    "A = np.array(list(map(string_to_state, A)))*0.1\n",
    "A = torch.tensor(A, dtype = torch.float32)"
   ]
  },
  {
   "cell_type": "code",
   "execution_count": 191,
   "id": "33b0c910",
   "metadata": {},
   "outputs": [
    {
     "data": {
      "text/plain": [
       "(array([1, 4, 5], dtype=int64),)"
      ]
     },
     "execution_count": 191,
     "metadata": {},
     "output_type": "execute_result"
    }
   ],
   "source": [
    "B = np.random.randint(5, size = 10)\n",
    "np.where(B==0)"
   ]
  },
  {
   "cell_type": "code",
   "execution_count": 176,
   "id": "af7987eb",
   "metadata": {},
   "outputs": [
    {
     "data": {
      "text/plain": [
       "array([[-0.03336988, -0.14240186, -0.04602407,  0.15938702, -0.09666204,\n",
       "        -0.22237086,  0.05894099, -0.14904375, -0.04688868,  0.02105118,\n",
       "        -0.05982035, -0.19932953, -0.12706402,  0.27775303, -0.17605948,\n",
       "         0.04909543,  0.06951721,  0.11740568, -0.04068892,  0.14326297,\n",
       "        -0.06216986, -0.05576455, -0.06897743,  0.02934251, -0.03230783],\n",
       "       [-0.03245573, -0.15047891, -0.03733453,  0.1570821 , -0.09584244,\n",
       "        -0.21293953,  0.0633012 , -0.1452517 , -0.05628642,  0.01110583,\n",
       "        -0.05070911, -0.19379397, -0.12605897,  0.25868675, -0.18162906,\n",
       "         0.04157753,  0.07531892,  0.12275115, -0.04631899,  0.14249076,\n",
       "        -0.06335084, -0.05073947, -0.07170766,  0.01973122, -0.01848933],\n",
       "       [-0.03289139, -0.15391979, -0.05418544,  0.16592222, -0.09696062,\n",
       "        -0.22825846,  0.05729946, -0.14290148, -0.03791624,  0.01338261,\n",
       "        -0.049636  , -0.19898671, -0.12140583,  0.27768135, -0.18616048,\n",
       "         0.0469959 ,  0.06512801,  0.12995975, -0.04790605,  0.15313458,\n",
       "        -0.05933015, -0.06856484, -0.0670603 ,  0.03285445, -0.03436936],\n",
       "       [-0.02492493, -0.15063742, -0.05154394,  0.16014366, -0.08595663,\n",
       "        -0.22131959,  0.06199162, -0.15127522, -0.03649925,  0.01991647,\n",
       "        -0.05139884, -0.20737833, -0.13025029,  0.28288695, -0.19176932,\n",
       "         0.05482623,  0.05878487,  0.11943156, -0.04020503,  0.15201288,\n",
       "        -0.06834221, -0.07411096, -0.05416849,  0.04173464, -0.02816747],\n",
       "       [-0.0365292 , -0.15051706, -0.05466276,  0.16595604, -0.1013609 ,\n",
       "        -0.24072066,  0.05785753, -0.14406979, -0.03730842,  0.01851486,\n",
       "        -0.05467159, -0.20134968, -0.12622622,  0.28613788, -0.18049282,\n",
       "         0.05584243,  0.06729178,  0.12233114, -0.04369891,  0.15273978,\n",
       "        -0.05252765, -0.06346017, -0.07026725,  0.03305363, -0.04708189],\n",
       "       [-0.036761  , -0.14249459, -0.05245562,  0.1600136 , -0.10093275,\n",
       "        -0.23256125,  0.05706085, -0.1403551 , -0.04597807,  0.01182644,\n",
       "        -0.05246694, -0.19792092, -0.12414754,  0.27190495, -0.18025184,\n",
       "         0.04870358,  0.07577202,  0.1269938 , -0.03825855,  0.14836107,\n",
       "        -0.05935737, -0.05417771, -0.06665601,  0.02878337, -0.0328658 ],\n",
       "       [-0.02839723, -0.13817112, -0.05295791,  0.15833184, -0.09291807,\n",
       "        -0.22676656,  0.056023  , -0.14635107, -0.0431428 ,  0.02053827,\n",
       "        -0.05762868, -0.20224237, -0.12641379,  0.28081265, -0.17742506,\n",
       "         0.05071324,  0.06689584,  0.12192328, -0.03725043,  0.14188915,\n",
       "        -0.06421325, -0.06004124, -0.06041944,  0.0375644 , -0.03287905],\n",
       "       [-0.03218888, -0.1541445 , -0.05090572,  0.16357249, -0.09725273,\n",
       "        -0.21691096,  0.06031366, -0.14471595, -0.04371607,  0.01110678,\n",
       "        -0.04941839, -0.1945957 , -0.12025163,  0.27216762, -0.18692502,\n",
       "         0.04296496,  0.06691514,  0.12894115, -0.04895428,  0.15173258,\n",
       "        -0.06325883, -0.06575142, -0.06736929,  0.02930229, -0.02799569],\n",
       "       [-0.03767558, -0.15276091, -0.04104613,  0.16222902, -0.10180323,\n",
       "        -0.22374034,  0.06261622, -0.14145693, -0.05447681,  0.00857511,\n",
       "        -0.04932221, -0.19105634, -0.12709919,  0.26083422, -0.17953615,\n",
       "         0.05034808,  0.07986674,  0.1216425 , -0.04454415,  0.14968507,\n",
       "        -0.05784814, -0.04716035, -0.07064198,  0.02039415, -0.03094799],\n",
       "       [-0.0292563 , -0.16080976, -0.05343173,  0.1693036 , -0.09267028,\n",
       "        -0.22941689,  0.06453966, -0.1466186 , -0.03644899,  0.01673224,\n",
       "        -0.05168943, -0.1995911 , -0.13098553,  0.28444725, -0.19014013,\n",
       "         0.05950404,  0.06406325,  0.12238944, -0.04878869,  0.15615839,\n",
       "        -0.06250461, -0.07733339, -0.05888544,  0.03921714, -0.04560902]],\n",
       "      dtype=float32)"
      ]
     },
     "execution_count": 176,
     "metadata": {},
     "output_type": "execute_result"
    }
   ],
   "source": [
    "with torch.inference_mode():\n",
    "    model = DQN(6, 25)\n",
    "    Y = model(A).numpy()\n",
    "Y.shape"
   ]
  },
  {
   "cell_type": "code",
   "execution_count": 155,
   "id": "1e692fac",
   "metadata": {},
   "outputs": [],
   "source": [
    "def string_to_state(state_string):\n",
    "    \n",
    "    return [int(s) for s in state_string]"
   ]
  },
  {
   "cell_type": "markdown",
   "id": "2017fbce",
   "metadata": {},
   "source": [
    "## Agent: "
   ]
  },
  {
   "cell_type": "code",
   "execution_count": 49,
   "id": "b43493ee",
   "metadata": {},
   "outputs": [],
   "source": [
    "class DQN_Agent():\n",
    "    \n",
    "    def __init__(self, env, name, use_cuda = True):\n",
    "        \n",
    "        #Name of the agent:\n",
    "        self.name = name\n",
    "        \n",
    "        #Environment properties\n",
    "        self.env = env\n",
    "        self.n = len(self.env.observation_space) + 1              # 1 prey\n",
    "        self.state_size = 2*self.n\n",
    "        self.num_states = 5**(self.state_size) # 5 rows/columns squared for area and multiplied by number of agents including prey\n",
    "        self.num_actions = 5*5\n",
    "        \n",
    "        #DQN parameters:\n",
    "        self.replay_memory = np.zeros((0, 4))\n",
    "        self.Q = DQN(self.state_size, self.num_actions)    \n",
    "        self.Q_target = DQN(self.state_size, self.num_actions)\n",
    "        \n",
    "        #Evaluation parameters:\n",
    "        self.num_visits = np.zeros((self.num_states, self.num_actions))\n",
    "        self.episode_lengths = np.array([])\n",
    "        self.successful_episodes = 0\n",
    "        self.total_rewards = np.array([])   #Because taking average rewards defeats the point of prefering faster episodes\n",
    "        \n",
    "        #Training parameters\n",
    "        self.epsilons = np.array([])\n",
    "        self.gammas = np.array([])\n",
    "        self.alphas = np.array([])\n",
    "        \n",
    "        \n",
    "    def get_state_from_env(self):\n",
    "    \n",
    "        a1_pos = str(self.env.agent_pos[0][0]) + str(self.env.agent_pos[0][1])\n",
    "        a2_pos = str(self.env.agent_pos[1][0]) + str(self.env.agent_pos[1][1])\n",
    "        prey_pos = str(self.env.prey_pos[0][0]) + str(self.env.prey_pos[0][1])\n",
    "\n",
    "        state_string = a1_pos + a2_pos + prey_pos\n",
    "        state_encoding = state_to_encoding(state_string)\n",
    "\n",
    "        return state_string, state_encoding\n",
    "    \n",
    "    \n",
    "    def choose_action(self, state_encoding, epsilon):\n",
    "\n",
    "        action = [0, 0]\n",
    "        \n",
    "        state = torch.tensor([int(s) for s in encoding_to_state(state_encoding)]) * 0.1       #Normalizing to a 0 to 1 scale\n",
    "        \n",
    "        explore = np.random.choice([False, True], p = [1 - epsilon, epsilon])\n",
    "        if explore:\n",
    "            action_encoding = np.argmin(self.num_visits[state_encoding, :])\n",
    "        else:\n",
    "            action_values = Q(state)\n",
    "            action_encoding = int(torch.argmax(action_values))\n",
    "\n",
    "        action_string = encoding_to_action(action_encoding)\n",
    "        action[0], action[1] = int(action_string[0]), int(action_string[1])\n",
    "        \n",
    "        return action, action_string, action_encoding\n",
    "    \n",
    "    \n",
    "    def update_weights(self, model, target_model, gamma, mini_batch_size = 10):\n",
    "        \n",
    "        n = self.replay_memory.size[0]\n",
    "        \n",
    "        if n > mini_batch_size:\n",
    "            \n",
    "            idx = np.random.default_rng().choice(n, size = mini_batch_size, replace = False) #Non repeated random choice\n",
    "            samples = self.replay_memory[idx, :]\n",
    "            \n",
    "            X_strings = [encoding_to_state(s) for s in samples[:, 0]]\n",
    "            X = torch.tensor(list(map(string_to_state, X_strings))) * 0.1\n",
    "            \n",
    "            X_target_strings = [encoding_to_state(s) for s in samples[:, 3]]\n",
    "            X_targets = torch.tensor(list(map(string_to_state, X_target_strings))) * 0.1\n",
    "            \n",
    "            with torch.inference_mode():    \n",
    "                \n",
    "                Y = model(X).numpy()\n",
    "                Y_targets = target_model(X_targets).numpy()\n",
    "            \n",
    "                actions = samples[:, 1]\n",
    "                rewards = samples[:, 2]\n",
    "                terminal_states = np.where(rewards == 1)\n",
    "                non_terminal_states = np.where(rewards != 1)\n",
    "                \n",
    "                Y[:, terminal_states] = rewards[terminal_states]\n",
    "                Y[:, non_terminal_states] = rewards[non_terminal_states] + gamma * Y_targets[:, non_terminal_states]\n",
    "            \n",
    "            train_model(model, X, Y, epochs = 10)\n",
    "        \n",
    "    \n",
    "    \n",
    "    def train_DQN(self, gammas, epsilons, save = False):\n",
    "        \n",
    "        _ = self.env.reset()\n",
    "        self.env.render()\n",
    "        _ = input(\"Ready to start?\")\n",
    "        \n",
    "        num_episodes = gammas.size\n",
    "        \n",
    "        for ep in range(num_episodes):\n",
    "            \n",
    "            _ = self.env.reset()\n",
    "            self.env.render()\n",
    "            \n",
    "            rewards = []\n",
    "            \n",
    "            dones = [False for _ in range(self.env.n_agents)]\n",
    "            steps = 0\n",
    "            \n",
    "            state_string, state_encoding = self.get_state_from_env()\n",
    "            \n",
    "            while (not all(dones)) and steps<100:\n",
    "                 \n",
    "                action, action_string, action_encoding = self.choose_action(state_string, state_encoding, epsilon)\n",
    "                \n",
    "                _, _, dones, _ = self.env.step(action)\n",
    "                \n",
    "                prev_state_string = state_string[:]\n",
    "                prev_state_encoding = state_encoding\n",
    "                state_string, state_encoding = self.get_state_from_env()\n",
    "                reward = get_custom_reward(prev_state_encoding, action_encoding, state_encoding)\n",
    "                \n",
    "                transition = np.array([[prev_state_encoding, action_encoding, reward, state_encoding]])\n",
    "                \n",
    "                #Store transition:\n",
    "                self.replay_memory = np.append(self.replay_memory, transition, axis = 0)\n",
    "                \n",
    "                rewards.append(reward)\n",
    "                \n",
    "                #START HEREEEEEE @@@######################@$(%(*$&)#($*(#@*)))\n",
    "                self.update_weights()\n",
    "                \n",
    "            \n",
    "            \n",
    "                \n",
    "    def analyse_episode(self):\n",
    "        \n",
    "        dones = [False for _ in range(self.env.n_agents)]\n",
    "        action = [0, 0]\n",
    "        reward = [0, 0]\n",
    "        \n",
    "        _ = self.env.reset()\n",
    "        count = 0\n",
    "        \n",
    "        self.env.render()\n",
    "        _ = input(\"Press Enter to start simulation\")\n",
    "        \n",
    "        while not all(dones):\n",
    "            \n",
    "            #clear_output(wait = True)\n",
    "            self.env.render()\n",
    "            \n",
    "            state_string, state_encoding = self.get_state_from_env()\n",
    "            action, action_string, action_encoding = self.choose_action(state_encoding, epsilon = 0)\n",
    "            \n",
    "            print(action_dict[action[0]], action_dict[action[1]])\n",
    "            print(\"\\nCurrent state in their representation = \", state_string)\n",
    "            _ = input(\"Does the action make sense? Press Enter to execute\")\n",
    "            _, _, dones, _ = self.env.step(action)\n",
    "            print(\"Is agent done?: \", dones)\n",
    "            self.env.render()\n",
    "            \n",
    "            \n",
    "    def save_agent(self):\n",
    "        \n",
    "        #Agent properties:\n",
    "        np.save(self.name + \"/\" + self.name + \"_values.npy\", self.values)\n",
    "        \n",
    "        #Evaluation parameters:\n",
    "        np.save(self.name + \"/\" + self.name + \"_num_visits.npy\", self.num_visits)\n",
    "        np.save(self.name + \"/\" + self.name + \"_episode_lengths.npy\", self.episode_lengths)\n",
    "        np.save(self.name + \"/\" + self.name + \"_successful_episodes.npy\", self.successful_episodes)\n",
    "        np.save(self.name + \"/\" + self.name + \"_total_rewards.npy\", self.total_rewards)\n",
    "        \n",
    "        #Training parameters:\n",
    "        np.save(self.name + \"/\" + self.name + \"_epsilons.npy\", self.epsilons)\n",
    "        np.save(self.name + \"/\" + self.name + \"_gammas.npy\", self.gammas)\n",
    "        np.save(self.name + \"/\" + self.name + \"_alphas.npy\", self.alphas)\n",
    "        \n",
    "    \n",
    "    def load_agent(self):\n",
    "        \n",
    "        #Agent properties:\n",
    "        self.values = np.load(self.name + \"/\" + self.name + \"_values.npy\")\n",
    "        \n",
    "        #Evaluation parameters:\n",
    "        self.num_visits = np.load(self.name + \"/\" + self.name + \"_num_visits.npy\")\n",
    "        self.episode_lengths = np.load(self.name + \"/\" + self.name + \"_episode_lengths.npy\")\n",
    "        self.successful_episodes = np.load(self.name + \"/\" + self.name + \"_successful_episodes.npy\")\n",
    "        self.total_rewards = np.load(self.name + \"/\" + self.name + \"_total_rewards.npy\")\n",
    "        \n",
    "        #Training parameters:\n",
    "        self.epsilons = np.load(self.name + \"/\" + self.name + \"_epsilons.npy\")\n",
    "        self.gammas = np.load(self.name + \"/\" + self.name + \"_gammas.npy\")\n",
    "        self.alphas = np.load(self.name + \"/\" + self.name + \"_alphas.npy\")\n"
   ]
  },
  {
   "cell_type": "code",
   "execution_count": 51,
   "id": "afe1a0c9",
   "metadata": {},
   "outputs": [],
   "source": [
    "agent = Agent(env, name = \"TD_agent_1\")"
   ]
  },
  {
   "cell_type": "code",
   "execution_count": 12,
   "id": "a97e385d",
   "metadata": {},
   "outputs": [
    {
     "name": "stdout",
     "output_type": "stream",
     "text": [
      "[[0. 0. 0. ... 0. 0. 0.]\n",
      " [0. 0. 0. ... 0. 0. 0.]\n",
      " [0. 0. 0. ... 0. 0. 0.]\n",
      " ...\n",
      " [0. 0. 0. ... 0. 0. 0.]\n",
      " [0. 0. 0. ... 0. 0. 0.]\n",
      " [0. 0. 0. ... 0. 0. 0.]]\n"
     ]
    }
   ],
   "source": [
    "agent.values = np.load(\"TD_values.npy\")\n",
    "print(agent.values)"
   ]
  },
  {
   "cell_type": "code",
   "execution_count": 63,
   "id": "3d59dd8c",
   "metadata": {},
   "outputs": [],
   "source": [
    "agent.env.close()"
   ]
  },
  {
   "cell_type": "code",
   "execution_count": 56,
   "id": "0bdf226c",
   "metadata": {},
   "outputs": [
    {
     "name": "stdout",
     "output_type": "stream",
     "text": [
      "1 1\n",
      "Episodes completed =  9999\n"
     ]
    }
   ],
   "source": [
    "num_episodes = 10000\n",
    "\n",
    "gamma = np.ones(num_episodes) * 0.9\n",
    "epsilon = np.ones(num_episodes) * 0.2\n",
    "alpha = np.ones(num_episodes) * 0.1\n",
    "\n",
    "agent.TD_control(gamma, epsilon, alpha, save = True)"
   ]
  },
  {
   "cell_type": "code",
   "execution_count": 64,
   "id": "5ffccc04",
   "metadata": {},
   "outputs": [
    {
     "data": {
      "text/plain": [
       "8887"
      ]
     },
     "execution_count": 64,
     "metadata": {},
     "output_type": "execute_result"
    }
   ],
   "source": [
    "agent.successful_episodes"
   ]
  },
  {
   "cell_type": "code",
   "execution_count": 58,
   "id": "e0409328",
   "metadata": {},
   "outputs": [
    {
     "data": {
      "text/plain": [
       "[<matplotlib.lines.Line2D at 0x1f31fd8a7f0>]"
      ]
     },
     "execution_count": 58,
     "metadata": {},
     "output_type": "execute_result"
    },
    {
     "data": {
      "image/png": "[encoded data removed]",
      "text/plain": [
       "<Figure size 432x288 with 1 Axes>"
      ]
     },
     "metadata": {
      "needs_background": "light"
     },
     "output_type": "display_data"
    }
   ],
   "source": [
    "plt.plot(agent.total_rewards)"
   ]
  },
  {
   "cell_type": "code",
   "execution_count": 59,
   "id": "b5e0c8e6",
   "metadata": {},
   "outputs": [
    {
     "data": {
      "text/plain": [
       "[<matplotlib.lines.Line2D at 0x1f31ff05370>]"
      ]
     },
     "execution_count": 59,
     "metadata": {},
     "output_type": "execute_result"
    },
    {
     "data": {
      "image/png": "[encoded data removed]",
      "text/plain": [
       "<Figure size 432x288 with 1 Axes>"
      ]
     },
     "metadata": {
      "needs_background": "light"
     },
     "output_type": "display_data"
    }
   ],
   "source": [
    "plt.plot(agent.episode_lengths)"
   ]
  },
  {
   "cell_type": "code",
   "execution_count": 60,
   "id": "2d65d0e4",
   "metadata": {},
   "outputs": [
    {
     "data": {
      "text/plain": [
       "[<matplotlib.lines.Line2D at 0x1f31ffd6580>,\n",
       " <matplotlib.lines.Line2D at 0x1f31ffd65e0>,\n",
       " <matplotlib.lines.Line2D at 0x1f31ffd6700>,\n",
       " <matplotlib.lines.Line2D at 0x1f31ffd6820>,\n",
       " <matplotlib.lines.Line2D at 0x1f31ffd6940>,\n",
       " <matplotlib.lines.Line2D at 0x1f31ffd6a60>,\n",
       " <matplotlib.lines.Line2D at 0x1f31ffca340>,\n",
       " <matplotlib.lines.Line2D at 0x1f31ffca370>,\n",
       " <matplotlib.lines.Line2D at 0x1f31ffd6ca0>,\n",
       " <matplotlib.lines.Line2D at 0x1f31ffd6dc0>,\n",
       " <matplotlib.lines.Line2D at 0x1f31ffd6ee0>,\n",
       " <matplotlib.lines.Line2D at 0x1f31ffd65b0>,\n",
       " <matplotlib.lines.Line2D at 0x1f31ffdf130>,\n",
       " <matplotlib.lines.Line2D at 0x1f31ffdf250>,\n",
       " <matplotlib.lines.Line2D at 0x1f31ffdf370>,\n",
       " <matplotlib.lines.Line2D at 0x1f31ffdf490>,\n",
       " <matplotlib.lines.Line2D at 0x1f31ffdf5b0>,\n",
       " <matplotlib.lines.Line2D at 0x1f31ffdf6d0>,\n",
       " <matplotlib.lines.Line2D at 0x1f31ffdf7f0>,\n",
       " <matplotlib.lines.Line2D at 0x1f31ffdf910>,\n",
       " <matplotlib.lines.Line2D at 0x1f31ffdfa30>,\n",
       " <matplotlib.lines.Line2D at 0x1f31ffdfb50>,\n",
       " <matplotlib.lines.Line2D at 0x1f31ffdfc70>,\n",
       " <matplotlib.lines.Line2D at 0x1f31ffdfd90>,\n",
       " <matplotlib.lines.Line2D at 0x1f31ffdfeb0>]"
      ]
     },
     "execution_count": 60,
     "metadata": {},
     "output_type": "execute_result"
    },
    {
     "data": {
      "image/png": "[encoded data removed]",
      "text/plain": [
       "<Figure size 432x288 with 1 Axes>"
      ]
     },
     "metadata": {
      "needs_background": "light"
     },
     "output_type": "display_data"
    }
   ],
   "source": [
    "plt.plot(agent.num_visits)"
   ]
  },
  {
   "cell_type": "code",
   "execution_count": 64,
   "id": "20fdd6b7",
   "metadata": {},
   "outputs": [
    {
     "data": {
      "text/plain": [
       "-0.01"
      ]
     },
     "execution_count": 64,
     "metadata": {},
     "output_type": "execute_result"
    }
   ],
   "source": [
    "np.max(agent.total_rewards)"
   ]
  },
  {
   "cell_type": "code",
   "execution_count": 62,
   "id": "b0587570",
   "metadata": {
    "scrolled": true
   },
   "outputs": [
    {
     "name": "stdout",
     "output_type": "stream",
     "text": [
      "Press Enter to start simulation\n",
      "Up Up\n",
      "\n",
      "Current state in their representation =  331220\n",
      "Does the action make sense? Press Enter to execute\n",
      "Is agent done?:  [False, False]\n",
      "Down Right\n",
      "\n",
      "Current state in their representation =  230220\n",
      "Does the action make sense? Press Enter to execute\n",
      "Is agent done?:  [False, False]\n",
      "Left Right\n",
      "\n",
      "Current state in their representation =  330320\n",
      "Does the action make sense? Press Enter to execute\n",
      "Is agent done?:  [False, False]\n",
      "Down Right\n",
      "\n",
      "Current state in their representation =  320420\n",
      "Does the action make sense? Press Enter to execute\n",
      "Is agent done?:  [False, False]\n",
      "Left Noop\n",
      "\n",
      "Current state in their representation =  420410\n",
      "Does the action make sense? Press Enter to execute\n",
      "Is agent done?:  [False, False]\n",
      "Right Down\n",
      "\n",
      "Current state in their representation =  410400\n",
      "Does the action make sense? Press Enter to execute\n",
      "Is agent done?:  [False, False]\n",
      "Up Noop\n",
      "\n",
      "Current state in their representation =  421410\n",
      "Does the action make sense? Press Enter to execute\n",
      "Is agent done?:  [False, False]\n",
      "Up Down\n",
      "\n",
      "Current state in their representation =  321400\n",
      "Does the action make sense? Press Enter to execute\n",
      "Is agent done?:  [False, False]\n",
      "Up Down\n",
      "\n",
      "Current state in their representation =  222400\n",
      "Does the action make sense? Press Enter to execute\n",
      "Is agent done?:  [False, False]\n",
      "Left Up\n",
      "\n",
      "Current state in their representation =  123400\n",
      "Does the action make sense? Press Enter to execute\n",
      "Is agent done?:  [False, False]\n",
      "Left Right\n",
      "\n",
      "Current state in their representation =  112400\n",
      "Does the action make sense? Press Enter to execute\n",
      "Is agent done?:  [False, False]\n",
      "Left Down\n",
      "\n",
      "Current state in their representation =  102400\n",
      "Does the action make sense? Press Enter to execute\n",
      "Is agent done?:  [False, False]\n",
      "Up Noop\n",
      "\n",
      "Current state in their representation =  103401\n",
      "Does the action make sense? Press Enter to execute\n",
      "Is agent done?:  [False, False]\n",
      "Down Left\n",
      "\n",
      "Current state in their representation =  003401\n",
      "Does the action make sense? Press Enter to execute\n",
      "Is agent done?:  [False, False]\n",
      "Noop Down\n",
      "\n",
      "Current state in their representation =  103301\n",
      "Does the action make sense? Press Enter to execute\n",
      "Is agent done?:  [False, False]\n",
      "Right Noop\n",
      "\n",
      "Current state in their representation =  104301\n",
      "Does the action make sense? Press Enter to execute\n",
      "Is agent done?:  [False, False]\n",
      "Noop Down\n",
      "\n",
      "Current state in their representation =  114302\n",
      "Does the action make sense? Press Enter to execute\n",
      "Is agent done?:  [False, False]\n",
      "Noop Down\n",
      "\n",
      "Current state in their representation =  114302\n",
      "Does the action make sense? Press Enter to execute\n",
      "Is agent done?:  [False, False]\n",
      "Noop Down\n",
      "\n",
      "Current state in their representation =  114302\n",
      "Does the action make sense? Press Enter to execute\n",
      "Is agent done?:  [False, False]\n",
      "Noop Down\n",
      "\n",
      "Current state in their representation =  114302\n",
      "Does the action make sense? Press Enter to execute\n",
      "Is agent done?:  [False, False]\n",
      "Noop Down\n",
      "\n",
      "Current state in their representation =  114302\n",
      "Does the action make sense? Press Enter to execute\n",
      "Is agent done?:  [False, False]\n",
      "Noop Down\n",
      "\n",
      "Current state in their representation =  114302\n",
      "Does the action make sense? Press Enter to execute\n",
      "Is agent done?:  [False, False]\n",
      "Noop Down\n",
      "\n",
      "Current state in their representation =  114302\n",
      "Does the action make sense? Press Enter to execute\n",
      "Is agent done?:  [False, False]\n",
      "Noop Down\n",
      "\n",
      "Current state in their representation =  114302\n",
      "Does the action make sense? Press Enter to execute\n",
      "Is agent done?:  [False, False]\n",
      "Noop Down\n",
      "\n",
      "Current state in their representation =  114302\n",
      "Does the action make sense? Press Enter to execute\n",
      "Is agent done?:  [False, False]\n",
      "Noop Down\n",
      "\n",
      "Current state in their representation =  114302\n",
      "Does the action make sense? Press Enter to execute\n",
      "Is agent done?:  [False, False]\n",
      "Noop Down\n",
      "\n",
      "Current state in their representation =  114302\n",
      "Does the action make sense? Press Enter to execute\n",
      "Is agent done?:  [False, False]\n",
      "Noop Down\n",
      "\n",
      "Current state in their representation =  114302\n"
     ]
    },
    {
     "ename": "KeyboardInterrupt",
     "evalue": "Interrupted by user",
     "output_type": "error",
     "traceback": [
      "\u001b[1;31m---------------------------------------------------------------------------\u001b[0m",
      "\u001b[1;31mKeyboardInterrupt\u001b[0m                         Traceback (most recent call last)",
      "Input \u001b[1;32mIn [62]\u001b[0m, in \u001b[0;36m<cell line: 2>\u001b[1;34m()\u001b[0m\n\u001b[0;32m      1\u001b[0m action_dict \u001b[38;5;241m=\u001b[39m {\u001b[38;5;241m0\u001b[39m:\u001b[38;5;124m\"\u001b[39m\u001b[38;5;124mDown\u001b[39m\u001b[38;5;124m\"\u001b[39m, \u001b[38;5;241m1\u001b[39m:\u001b[38;5;124m\"\u001b[39m\u001b[38;5;124mLeft\u001b[39m\u001b[38;5;124m\"\u001b[39m, \u001b[38;5;241m2\u001b[39m:\u001b[38;5;124m\"\u001b[39m\u001b[38;5;124mUp\u001b[39m\u001b[38;5;124m\"\u001b[39m, \u001b[38;5;241m3\u001b[39m:\u001b[38;5;124m\"\u001b[39m\u001b[38;5;124mRight\u001b[39m\u001b[38;5;124m\"\u001b[39m, \u001b[38;5;241m4\u001b[39m:\u001b[38;5;124m\"\u001b[39m\u001b[38;5;124mNoop\u001b[39m\u001b[38;5;124m\"\u001b[39m}\n\u001b[1;32m----> 2\u001b[0m \u001b[43magent\u001b[49m\u001b[38;5;241;43m.\u001b[39;49m\u001b[43manalyse_episode\u001b[49m\u001b[43m(\u001b[49m\u001b[43m)\u001b[49m\n",
      "Input \u001b[1;32mIn [49]\u001b[0m, in \u001b[0;36mAgent.analyse_episode\u001b[1;34m(self)\u001b[0m\n\u001b[0;32m    149\u001b[0m \u001b[38;5;28mprint\u001b[39m(action_dict[action[\u001b[38;5;241m0\u001b[39m]], action_dict[action[\u001b[38;5;241m1\u001b[39m]])\n\u001b[0;32m    150\u001b[0m \u001b[38;5;28mprint\u001b[39m(\u001b[38;5;124m\"\u001b[39m\u001b[38;5;130;01m\\n\u001b[39;00m\u001b[38;5;124mCurrent state in their representation = \u001b[39m\u001b[38;5;124m\"\u001b[39m, state_string)\n\u001b[1;32m--> 151\u001b[0m _ \u001b[38;5;241m=\u001b[39m \u001b[38;5;28;43minput\u001b[39;49m\u001b[43m(\u001b[49m\u001b[38;5;124;43m\"\u001b[39;49m\u001b[38;5;124;43mDoes the action make sense? Press Enter to execute\u001b[39;49m\u001b[38;5;124;43m\"\u001b[39;49m\u001b[43m)\u001b[49m\n\u001b[0;32m    152\u001b[0m _, _, dones, _ \u001b[38;5;241m=\u001b[39m \u001b[38;5;28mself\u001b[39m\u001b[38;5;241m.\u001b[39menv\u001b[38;5;241m.\u001b[39mstep(action)\n\u001b[0;32m    153\u001b[0m \u001b[38;5;28mprint\u001b[39m(\u001b[38;5;124m\"\u001b[39m\u001b[38;5;124mIs agent done?: \u001b[39m\u001b[38;5;124m\"\u001b[39m, dones)\n",
      "File \u001b[1;32m~\\anaconda3\\envs\\Reinforcement_Learning\\lib\\site-packages\\ipykernel\\kernelbase.py:1075\u001b[0m, in \u001b[0;36mKernel.raw_input\u001b[1;34m(self, prompt)\u001b[0m\n\u001b[0;32m   1071\u001b[0m \u001b[38;5;28;01mif\u001b[39;00m \u001b[38;5;129;01mnot\u001b[39;00m \u001b[38;5;28mself\u001b[39m\u001b[38;5;241m.\u001b[39m_allow_stdin:\n\u001b[0;32m   1072\u001b[0m     \u001b[38;5;28;01mraise\u001b[39;00m StdinNotImplementedError(\n\u001b[0;32m   1073\u001b[0m         \u001b[38;5;124m\"\u001b[39m\u001b[38;5;124mraw_input was called, but this frontend does not support input requests.\u001b[39m\u001b[38;5;124m\"\u001b[39m\n\u001b[0;32m   1074\u001b[0m     )\n\u001b[1;32m-> 1075\u001b[0m \u001b[38;5;28;01mreturn\u001b[39;00m \u001b[38;5;28;43mself\u001b[39;49m\u001b[38;5;241;43m.\u001b[39;49m\u001b[43m_input_request\u001b[49m\u001b[43m(\u001b[49m\n\u001b[0;32m   1076\u001b[0m \u001b[43m    \u001b[49m\u001b[38;5;28;43mstr\u001b[39;49m\u001b[43m(\u001b[49m\u001b[43mprompt\u001b[49m\u001b[43m)\u001b[49m\u001b[43m,\u001b[49m\n\u001b[0;32m   1077\u001b[0m \u001b[43m    \u001b[49m\u001b[38;5;28;43mself\u001b[39;49m\u001b[38;5;241;43m.\u001b[39;49m\u001b[43m_parent_ident\u001b[49m\u001b[43m[\u001b[49m\u001b[38;5;124;43m\"\u001b[39;49m\u001b[38;5;124;43mshell\u001b[39;49m\u001b[38;5;124;43m\"\u001b[39;49m\u001b[43m]\u001b[49m\u001b[43m,\u001b[49m\n\u001b[0;32m   1078\u001b[0m \u001b[43m    \u001b[49m\u001b[38;5;28;43mself\u001b[39;49m\u001b[38;5;241;43m.\u001b[39;49m\u001b[43mget_parent\u001b[49m\u001b[43m(\u001b[49m\u001b[38;5;124;43m\"\u001b[39;49m\u001b[38;5;124;43mshell\u001b[39;49m\u001b[38;5;124;43m\"\u001b[39;49m\u001b[43m)\u001b[49m\u001b[43m,\u001b[49m\n\u001b[0;32m   1079\u001b[0m \u001b[43m    \u001b[49m\u001b[43mpassword\u001b[49m\u001b[38;5;241;43m=\u001b[39;49m\u001b[38;5;28;43;01mFalse\u001b[39;49;00m\u001b[43m,\u001b[49m\n\u001b[0;32m   1080\u001b[0m \u001b[43m\u001b[49m\u001b[43m)\u001b[49m\n",
      "File \u001b[1;32m~\\anaconda3\\envs\\Reinforcement_Learning\\lib\\site-packages\\ipykernel\\kernelbase.py:1120\u001b[0m, in \u001b[0;36mKernel._input_request\u001b[1;34m(self, prompt, ident, parent, password)\u001b[0m\n\u001b[0;32m   1117\u001b[0m             \u001b[38;5;28;01mbreak\u001b[39;00m\n\u001b[0;32m   1118\u001b[0m \u001b[38;5;28;01mexcept\u001b[39;00m \u001b[38;5;167;01mKeyboardInterrupt\u001b[39;00m:\n\u001b[0;32m   1119\u001b[0m     \u001b[38;5;66;03m# re-raise KeyboardInterrupt, to truncate traceback\u001b[39;00m\n\u001b[1;32m-> 1120\u001b[0m     \u001b[38;5;28;01mraise\u001b[39;00m \u001b[38;5;167;01mKeyboardInterrupt\u001b[39;00m(\u001b[38;5;124m\"\u001b[39m\u001b[38;5;124mInterrupted by user\u001b[39m\u001b[38;5;124m\"\u001b[39m) \u001b[38;5;28;01mfrom\u001b[39;00m \u001b[38;5;28mNone\u001b[39m\n\u001b[0;32m   1121\u001b[0m \u001b[38;5;28;01mexcept\u001b[39;00m \u001b[38;5;167;01mException\u001b[39;00m:\n\u001b[0;32m   1122\u001b[0m     \u001b[38;5;28mself\u001b[39m\u001b[38;5;241m.\u001b[39mlog\u001b[38;5;241m.\u001b[39mwarning(\u001b[38;5;124m\"\u001b[39m\u001b[38;5;124mInvalid Message:\u001b[39m\u001b[38;5;124m\"\u001b[39m, exc_info\u001b[38;5;241m=\u001b[39m\u001b[38;5;28;01mTrue\u001b[39;00m)\n",
      "\u001b[1;31mKeyboardInterrupt\u001b[0m: Interrupted by user"
     ]
    }
   ],
   "source": [
    "action_dict = {0:\"Down\", 1:\"Left\", 2:\"Up\", 3:\"Right\", 4:\"Noop\"}\n",
    "agent.analyse_episode()"
   ]
  },
  {
   "cell_type": "code",
   "execution_count": 22,
   "id": "7846a98d",
   "metadata": {},
   "outputs": [],
   "source": [
    "def value_heatmap(values, half_state = \"2233\"):\n",
    "    \n",
    "    heatmap = np.zeros((5,5))\n",
    "    \n",
    "    for i in range(5):\n",
    "        for j in range(5):\n",
    "\n",
    "            state_encoding = state_to_encoding(str(i) + str(j) + half_state)\n",
    "            heatmap[i, j] = np.mean(values[state_encoding, :])\n",
    "            \n",
    "    return heatmap"
   ]
  },
  {
   "cell_type": "code",
   "execution_count": 65,
   "id": "18574ef3",
   "metadata": {},
   "outputs": [
    {
     "name": "stdout",
     "output_type": "stream",
     "text": [
      "[[-2.88029515e+00 -2.73801415e+00 -1.70417279e+00 -1.41973136e-01\n",
      "   0.00000000e+00]\n",
      " [-3.32012845e+00 -3.16612801e+00 -1.78982501e+00 -8.45625087e-01\n",
      "   0.00000000e+00]\n",
      " [-3.52152620e+00 -3.34311050e+00  0.00000000e+00 -4.00000000e-04\n",
      "  -1.30831872e-01]\n",
      " [-2.97888619e+00 -3.10997406e+00 -2.20607257e-01  0.00000000e+00\n",
      "  -2.93791867e-01]\n",
      " [-3.17500251e+00 -2.80480704e+00 -2.52051120e+00 -6.65981825e-01\n",
      "  -1.64005864e+00]]\n"
     ]
    },
    {
     "data": {
      "text/plain": [
       "<matplotlib.image.AxesImage at 0x1d127e08160>"
      ]
     },
     "execution_count": 65,
     "metadata": {},
     "output_type": "execute_result"
    },
    {
     "data": {
      "image/png": "[encoded data removed]",
      "text/plain": [
       "<Figure size 432x288 with 1 Axes>"
      ]
     },
     "metadata": {
      "needs_background": "light"
     },
     "output_type": "display_data"
    }
   ],
   "source": [
    "heatmap = value_heatmap(agent.values, half_state = \"2233\")\n",
    "print(heatmap)\n",
    "plt.imshow(heatmap, cmap=\"hot\", interpolation=\"nearest\")"
   ]
  },
  {
   "cell_type": "code",
   "execution_count": 66,
   "id": "49b9734f",
   "metadata": {},
   "outputs": [
    {
     "name": "stdout",
     "output_type": "stream",
     "text": [
      "(15625, 25)\n"
     ]
    },
    {
     "data": {
      "text/plain": [
       "[<matplotlib.lines.Line2D at 0x1d13c684ac0>]"
      ]
     },
     "execution_count": 66,
     "metadata": {},
     "output_type": "execute_result"
    },
    {
     "data": {
      "image/png": "[encoded data removed]",
      "text/plain": [
       "<Figure size 432x288 with 1 Axes>"
      ]
     },
     "metadata": {
      "needs_background": "light"
     },
     "output_type": "display_data"
    }
   ],
   "source": [
    "print(agent.num_visits.shape)\n",
    "plt.plot(agent.num_visits[:].flatten())"
   ]
  },
  {
   "cell_type": "code",
   "execution_count": 68,
   "id": "0a4d9346",
   "metadata": {},
   "outputs": [
    {
     "data": {
      "text/plain": [
       "0.0"
      ]
     },
     "execution_count": 68,
     "metadata": {},
     "output_type": "execute_result"
    }
   ],
   "source": [
    "np.min(agent.num_visits)"
   ]
  }
 ],
 "metadata": {
  "kernelspec": {
   "display_name": "Reinforcement_Learning",
   "language": "python",
   "name": "reinforcement_learning"
  },
  "language_info": {
   "codemirror_mode": {
    "name": "ipython",
    "version": 3
   },
   "file_extension": ".py",
   "mimetype": "text/x-python",
   "name": "python",
   "nbconvert_exporter": "python",
   "pygments_lexer": "ipython3",
   "version": "3.8.13"
  }
 },
 "nbformat": 4,
 "nbformat_minor": 5
}
